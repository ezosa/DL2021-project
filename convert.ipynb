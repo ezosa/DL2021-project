{
 "metadata": {
  "language_info": {
   "codemirror_mode": {
    "name": "ipython",
    "version": 3
   },
   "file_extension": ".py",
   "mimetype": "text/x-python",
   "name": "python",
   "nbconvert_exporter": "python",
   "pygments_lexer": "ipython3",
   "version": "3.9.2-final"
  },
  "orig_nbformat": 2,
  "kernelspec": {
   "name": "python3",
   "display_name": "Python 3.9.2 64-bit ('DL_project': venv)",
   "metadata": {
    "interpreter": {
     "hash": "fa483c4574f5972a75f36bbc96a6e0a7d8d9f8b6119f50fa52c23374a70ea3ea"
    }
   }
  }
 },
 "nbformat": 4,
 "nbformat_minor": 2,
 "cells": [
  {
   "cell_type": "code",
   "execution_count": 2,
   "metadata": {},
   "outputs": [],
   "source": [
    "from data import parse_reuters_articles\n",
    "import pandas as pd\n",
    "# python3 -m pip install pandas pyarrow"
   ]
  },
  {
   "cell_type": "code",
   "execution_count": 3,
   "metadata": {},
   "outputs": [
    {
     "output_type": "stream",
     "name": "stdout",
     "text": []
    }
   ],
   "source": [
    "articles = parse_reuters_articles(\"../REUTERS_CORPUS_2\")"
   ]
  },
  {
   "cell_type": "code",
   "execution_count": 5,
   "metadata": {},
   "outputs": [
    {
     "output_type": "execute_result",
     "data": {
      "text/plain": [
       "{'id': '632411',\n",
       " 'date': '1997-06-02',\n",
       " 'codes': ['C12', 'CCAT', 'GCAT', 'GCRIM'],\n",
       " 'headline': 'Seoul court jails 10 in Hanbo corruption scandal.',\n",
       " 'text': 'A South Korean court on Monday handed lengthy jail sentences to the founder of the Hanbo Group and nine others, including lawmakers and former top bankers, in a corruption scandal that has rocked the nation. The founder of the country\\'s 14th largest business conglomerate, Chung Tae-soo, was jailed for 15 years and his son Chung Bo-keun, three years for bribery and embezzlement. Chung junior is Hanbo\\'s current chairman. The court heard evidence that Hanbo\\'s 74-year-old patriach handed out huge sums of cash hidden in apple crates to politicians and bankers to keep loans rolling in to the group\\'s steelmaking flagship, which collapsed in January under debts of five trillion won ($5.6 billion). A total of 11 people were standing trial in the Seoul District Criminal Court in a case that has deeply embarrassed President Kim Young-sam, and led to the arrest of his son. Among those jailed were several of Kim\\'s closest aides. Hanbo\\'s former financial controller was given a 2-1/2 year jail term suspended for four years. \"Your wrongdoing has caused a great shock to the Korean people, harm to the country\\'s economy and chaos in society,\" chief judge Son Ji-yol told the ailing Chung Tae-soo, who entered the court supported by a prison officer. Former Home Affairs minister Kim Woo-suk was jailed for four years. Among the lawmakers, Hong In-gil of the ruling New Korea Party received the heaviest punishment with a seven-year jail sentence. Two other ruling party lawmakers, Hwang Byung-tai and Chung Jae-chull, were both jailed for three years. Another member of the National Assembly, Kwon Roh-kap of the main opposition National Congress for New Politics, was handed a five-year prison term. Two former presidents of Korea First Bank, Sheen Kwang-shik and Rhee Chul-soo, were jailed for four years and five years respectively for accepting bribes. The bank was the largest creditor to Hanbo Steel. The one-time president of Chohung Bank, Woo Chan-mok, was jailed for four years. \"This case has caused great suffering to our society and economy and now we must view it as a lesson of history,\" judge Son said before sentencing. \"Our society should use this opportunity to break from a past where morality and reasoning were lacking and move towards a better economy and society.\" Chung Tae-soo, who suffered a stroke after his arrest, appeared haggard and unshaven. '}"
      ]
     },
     "metadata": {},
     "execution_count": 5
    }
   ],
   "source": [
    "articles[0]"
   ]
  },
  {
   "cell_type": "code",
   "execution_count": 29,
   "metadata": {},
   "outputs": [],
   "source": [
    "df = pd.DataFrame(articles)\n",
    "df = df.convert_dtypes()\n",
    "df[\"date\"] = pd.to_datetime(df[\"date\"])\n",
    "dataset = df[[\"date\", \"headline\", \"text\", \"codes\"]]\n",
    "del df\n",
    "dataset.to_feather(\"data.ft\") # 1.4 GB > 275 MB\n",
    "del dataset"
   ]
  },
  {
   "source": [
    "## If you have \"data.ft\" already - start here"
   ],
   "cell_type": "markdown",
   "metadata": {}
  },
  {
   "cell_type": "code",
   "execution_count": 5,
   "metadata": {},
   "outputs": [],
   "source": [
    "import pandas as pd\n",
    "# reads in 1 sec\n",
    "dataset = pd.read_feather(\"data.ft\")"
   ]
  },
  {
   "cell_type": "code",
   "execution_count": 6,
   "metadata": {},
   "outputs": [
    {
     "output_type": "execute_result",
     "data": {
      "text/plain": [
       "        date                                           headline  \\\n",
       "0 1997-06-02  Seoul court jails 10 in Hanbo corruption scandal.   \n",
       "1 1997-06-02          Rouble fixed at 3,370 per mark in Moscow.   \n",
       "2 1997-06-02       SAKU FALLS ON SUSPENSION FEAR, OTHERS QUIET.   \n",
       "3 1997-06-02          Coca-Cola's Powerade is NHL choice - WSJ.   \n",
       "4 1997-06-02  BUCHAREST BOURSE AVERAGE PRICES UP, VOLUME SLIPS.   \n",
       "\n",
       "                                                text  \\\n",
       "0  A South Korean court on Monday handed lengthy ...   \n",
       "1  The rouble was set at 3,370 to the German mark...   \n",
       "2  Saku Brewery fell 17 percent on the Tallinn bo...   \n",
       "3  Coca-Cola Co's Powerade may soon be the sport ...   \n",
       "4  The average prices of most Bucharest bourse li...   \n",
       "\n",
       "                          codes  \n",
       "0      [C12, CCAT, GCAT, GCRIM]  \n",
       "1             [M13, M132, MCAT]  \n",
       "2                   [M11, MCAT]  \n",
       "3                        [GSPO]  \n",
       "4  [C15, C152, CCAT, M11, MCAT]  "
      ],
      "text/html": "<div>\n<style scoped>\n    .dataframe tbody tr th:only-of-type {\n        vertical-align: middle;\n    }\n\n    .dataframe tbody tr th {\n        vertical-align: top;\n    }\n\n    .dataframe thead th {\n        text-align: right;\n    }\n</style>\n<table border=\"1\" class=\"dataframe\">\n  <thead>\n    <tr style=\"text-align: right;\">\n      <th></th>\n      <th>date</th>\n      <th>headline</th>\n      <th>text</th>\n      <th>codes</th>\n    </tr>\n  </thead>\n  <tbody>\n    <tr>\n      <th>0</th>\n      <td>1997-06-02</td>\n      <td>Seoul court jails 10 in Hanbo corruption scandal.</td>\n      <td>A South Korean court on Monday handed lengthy ...</td>\n      <td>[C12, CCAT, GCAT, GCRIM]</td>\n    </tr>\n    <tr>\n      <th>1</th>\n      <td>1997-06-02</td>\n      <td>Rouble fixed at 3,370 per mark in Moscow.</td>\n      <td>The rouble was set at 3,370 to the German mark...</td>\n      <td>[M13, M132, MCAT]</td>\n    </tr>\n    <tr>\n      <th>2</th>\n      <td>1997-06-02</td>\n      <td>SAKU FALLS ON SUSPENSION FEAR, OTHERS QUIET.</td>\n      <td>Saku Brewery fell 17 percent on the Tallinn bo...</td>\n      <td>[M11, MCAT]</td>\n    </tr>\n    <tr>\n      <th>3</th>\n      <td>1997-06-02</td>\n      <td>Coca-Cola's Powerade is NHL choice - WSJ.</td>\n      <td>Coca-Cola Co's Powerade may soon be the sport ...</td>\n      <td>[GSPO]</td>\n    </tr>\n    <tr>\n      <th>4</th>\n      <td>1997-06-02</td>\n      <td>BUCHAREST BOURSE AVERAGE PRICES UP, VOLUME SLIPS.</td>\n      <td>The average prices of most Bucharest bourse li...</td>\n      <td>[C15, C152, CCAT, M11, MCAT]</td>\n    </tr>\n  </tbody>\n</table>\n</div>"
     },
     "metadata": {},
     "execution_count": 6
    }
   ],
   "source": [
    "dataset.head()"
   ]
  },
  {
   "cell_type": "code",
   "execution_count": 7,
   "metadata": {},
   "outputs": [
    {
     "output_type": "execute_result",
     "data": {
      "text/plain": [
       "(299773, 4)"
      ]
     },
     "metadata": {},
     "execution_count": 7
    }
   ],
   "source": [
    "dataset.shape"
   ]
  },
  {
   "source": [
    "## Dataset splitting\n",
    "\n",
    "- shuffle \n",
    "- encode with s-bert\n",
    "- 90% / 5% / 5%"
   ],
   "cell_type": "markdown",
   "metadata": {}
  },
  {
   "cell_type": "code",
   "execution_count": 10,
   "metadata": {},
   "outputs": [],
   "source": [
    "from sklearn.model_selection import train_test_split\n",
    "\n",
    "X_train, X_test = train_test_split(dataset, test_size=0.1, random_state=0, shuffle=True)\n",
    "X_val = X_test[:int(X_test.shape[0]/2)]\n",
    "X_test = X_test[int(X_test.shape[0]/2):]"
   ]
  },
  {
   "cell_type": "code",
   "execution_count": 17,
   "metadata": {},
   "outputs": [],
   "source": []
  }
 ]
}